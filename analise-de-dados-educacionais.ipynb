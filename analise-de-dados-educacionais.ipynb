{
 "cells": [
  {
   "cell_type": "markdown",
   "id": "6bdd296a-81aa-4866-9733-c4e2e95c934a",
   "metadata": {},
   "source": [
    "# 📊 Análise de Desempenho Escolar dos Estudantes\n",
    "\n",
    "Este projeto tem como objetivo analisar um conjunto de dados contendo informações sobre o desempenho de 1000 estudantes em três disciplinas: matemática, leitura e escrita.\n",
    "\n",
    "A análise busca identificar padrões e relações entre o desempenho dos alunos e variáveis como:\n",
    "- Gênero\n",
    "- Tipo de almoço (indicador socioeconômico)\n",
    "- Participação em curso preparatório\n",
    "- Nível de escolaridade dos pais\n",
    "\n",
    "Através de gráficos e estatísticas, vamos responder perguntas como:\n",
    "- Meninas e meninos apresentam diferenças nas médias?\n",
    "- O curso preparatório melhora o desempenho?\n",
    "- Existe relação entre escolaridade dos pais e as notas dos alunos?"
   ]
  },
  {
   "cell_type": "code",
   "execution_count": 2,
   "id": "027d2859-2464-4335-8ccd-9839a8c05c14",
   "metadata": {},
   "outputs": [
    {
     "data": {
      "text/html": [
       "<div>\n",
       "<style scoped>\n",
       "    .dataframe tbody tr th:only-of-type {\n",
       "        vertical-align: middle;\n",
       "    }\n",
       "\n",
       "    .dataframe tbody tr th {\n",
       "        vertical-align: top;\n",
       "    }\n",
       "\n",
       "    .dataframe thead th {\n",
       "        text-align: right;\n",
       "    }\n",
       "</style>\n",
       "<table border=\"1\" class=\"dataframe\">\n",
       "  <thead>\n",
       "    <tr style=\"text-align: right;\">\n",
       "      <th></th>\n",
       "      <th>gender</th>\n",
       "      <th>race/ethnicity</th>\n",
       "      <th>parental level of education</th>\n",
       "      <th>lunch</th>\n",
       "      <th>test preparation course</th>\n",
       "      <th>math score</th>\n",
       "      <th>reading score</th>\n",
       "      <th>writing score</th>\n",
       "    </tr>\n",
       "  </thead>\n",
       "  <tbody>\n",
       "    <tr>\n",
       "      <th>0</th>\n",
       "      <td>female</td>\n",
       "      <td>group B</td>\n",
       "      <td>bachelor's degree</td>\n",
       "      <td>standard</td>\n",
       "      <td>none</td>\n",
       "      <td>72</td>\n",
       "      <td>72</td>\n",
       "      <td>74</td>\n",
       "    </tr>\n",
       "    <tr>\n",
       "      <th>1</th>\n",
       "      <td>female</td>\n",
       "      <td>group C</td>\n",
       "      <td>some college</td>\n",
       "      <td>standard</td>\n",
       "      <td>completed</td>\n",
       "      <td>69</td>\n",
       "      <td>90</td>\n",
       "      <td>88</td>\n",
       "    </tr>\n",
       "    <tr>\n",
       "      <th>2</th>\n",
       "      <td>female</td>\n",
       "      <td>group B</td>\n",
       "      <td>master's degree</td>\n",
       "      <td>standard</td>\n",
       "      <td>none</td>\n",
       "      <td>90</td>\n",
       "      <td>95</td>\n",
       "      <td>93</td>\n",
       "    </tr>\n",
       "    <tr>\n",
       "      <th>3</th>\n",
       "      <td>male</td>\n",
       "      <td>group A</td>\n",
       "      <td>associate's degree</td>\n",
       "      <td>free/reduced</td>\n",
       "      <td>none</td>\n",
       "      <td>47</td>\n",
       "      <td>57</td>\n",
       "      <td>44</td>\n",
       "    </tr>\n",
       "    <tr>\n",
       "      <th>4</th>\n",
       "      <td>male</td>\n",
       "      <td>group C</td>\n",
       "      <td>some college</td>\n",
       "      <td>standard</td>\n",
       "      <td>none</td>\n",
       "      <td>76</td>\n",
       "      <td>78</td>\n",
       "      <td>75</td>\n",
       "    </tr>\n",
       "  </tbody>\n",
       "</table>\n",
       "</div>"
      ],
      "text/plain": [
       "   gender race/ethnicity parental level of education         lunch  \\\n",
       "0  female        group B           bachelor's degree      standard   \n",
       "1  female        group C                some college      standard   \n",
       "2  female        group B             master's degree      standard   \n",
       "3    male        group A          associate's degree  free/reduced   \n",
       "4    male        group C                some college      standard   \n",
       "\n",
       "  test preparation course  math score  reading score  writing score  \n",
       "0                    none          72             72             74  \n",
       "1               completed          69             90             88  \n",
       "2                    none          90             95             93  \n",
       "3                    none          47             57             44  \n",
       "4                    none          76             78             75  "
      ]
     },
     "execution_count": 2,
     "metadata": {},
     "output_type": "execute_result"
    }
   ],
   "source": [
    "# Importando o pandas\n",
    "import pandas as pd\n",
    "\n",
    "# Lendo o arquivo CSV com os dados dos alunos\n",
    "df = pd.read_csv('StudentsPerformance.csv')\n",
    "\n",
    "# Exibindo as 5 primeiras linhas da tabela\n",
    "df.head()"
   ]
  },
  {
   "cell_type": "code",
   "execution_count": 3,
   "id": "c078b1bb-0442-427b-86ea-f2941f6a915c",
   "metadata": {},
   "outputs": [
    {
     "name": "stdout",
     "output_type": "stream",
     "text": [
      "<class 'pandas.core.frame.DataFrame'>\n",
      "RangeIndex: 1000 entries, 0 to 999\n",
      "Data columns (total 8 columns):\n",
      " #   Column                       Non-Null Count  Dtype \n",
      "---  ------                       --------------  ----- \n",
      " 0   gender                       1000 non-null   object\n",
      " 1   race/ethnicity               1000 non-null   object\n",
      " 2   parental level of education  1000 non-null   object\n",
      " 3   lunch                        1000 non-null   object\n",
      " 4   test preparation course      1000 non-null   object\n",
      " 5   math score                   1000 non-null   int64 \n",
      " 6   reading score                1000 non-null   int64 \n",
      " 7   writing score                1000 non-null   int64 \n",
      "dtypes: int64(3), object(5)\n",
      "memory usage: 62.6+ KB\n"
     ]
    }
   ],
   "source": [
    "# Verificando a estrutura do DataFrame:\n",
    "# Mostra o número total de registros, colunas, tipos de dados e se há valores nulos\n",
    "df.info()"
   ]
  },
  {
   "cell_type": "markdown",
   "id": "2cc69326-8d93-47e8-988b-b8e6df075232",
   "metadata": {},
   "source": [
    "## 🔍 Estrutura e Estatísticas Básicas\n",
    "\n",
    "Abaixo analisamos a estrutura do conjunto de dados (nomes de colunas, tipos, valores nulos) e também as estatísticas descritivas das notas.  \n",
    "Isso nos ajuda a entender a qualidade dos dados e identificar possíveis valores extremos (outliers).\n"
   ]
  },
  {
   "cell_type": "code",
   "execution_count": 7,
   "id": "72a6cb79-990a-4125-953c-a56667f9d4ba",
   "metadata": {},
   "outputs": [
    {
     "data": {
      "text/html": [
       "<div>\n",
       "<style scoped>\n",
       "    .dataframe tbody tr th:only-of-type {\n",
       "        vertical-align: middle;\n",
       "    }\n",
       "\n",
       "    .dataframe tbody tr th {\n",
       "        vertical-align: top;\n",
       "    }\n",
       "\n",
       "    .dataframe thead th {\n",
       "        text-align: right;\n",
       "    }\n",
       "</style>\n",
       "<table border=\"1\" class=\"dataframe\">\n",
       "  <thead>\n",
       "    <tr style=\"text-align: right;\">\n",
       "      <th></th>\n",
       "      <th>math score</th>\n",
       "      <th>reading score</th>\n",
       "      <th>writing score</th>\n",
       "    </tr>\n",
       "  </thead>\n",
       "  <tbody>\n",
       "    <tr>\n",
       "      <th>count</th>\n",
       "      <td>1000.00</td>\n",
       "      <td>1000.00</td>\n",
       "      <td>1000.00</td>\n",
       "    </tr>\n",
       "    <tr>\n",
       "      <th>mean</th>\n",
       "      <td>66.09</td>\n",
       "      <td>69.17</td>\n",
       "      <td>68.05</td>\n",
       "    </tr>\n",
       "    <tr>\n",
       "      <th>std</th>\n",
       "      <td>15.16</td>\n",
       "      <td>14.60</td>\n",
       "      <td>15.20</td>\n",
       "    </tr>\n",
       "    <tr>\n",
       "      <th>min</th>\n",
       "      <td>0.00</td>\n",
       "      <td>17.00</td>\n",
       "      <td>10.00</td>\n",
       "    </tr>\n",
       "    <tr>\n",
       "      <th>25%</th>\n",
       "      <td>57.00</td>\n",
       "      <td>59.00</td>\n",
       "      <td>57.75</td>\n",
       "    </tr>\n",
       "    <tr>\n",
       "      <th>50%</th>\n",
       "      <td>66.00</td>\n",
       "      <td>70.00</td>\n",
       "      <td>69.00</td>\n",
       "    </tr>\n",
       "    <tr>\n",
       "      <th>75%</th>\n",
       "      <td>77.00</td>\n",
       "      <td>79.00</td>\n",
       "      <td>79.00</td>\n",
       "    </tr>\n",
       "    <tr>\n",
       "      <th>max</th>\n",
       "      <td>100.00</td>\n",
       "      <td>100.00</td>\n",
       "      <td>100.00</td>\n",
       "    </tr>\n",
       "  </tbody>\n",
       "</table>\n",
       "</div>"
      ],
      "text/plain": [
       "       math score  reading score  writing score\n",
       "count     1000.00        1000.00        1000.00\n",
       "mean        66.09          69.17          68.05\n",
       "std         15.16          14.60          15.20\n",
       "min          0.00          17.00          10.00\n",
       "25%         57.00          59.00          57.75\n",
       "50%         66.00          70.00          69.00\n",
       "75%         77.00          79.00          79.00\n",
       "max        100.00         100.00         100.00"
      ]
     },
     "execution_count": 7,
     "metadata": {},
     "output_type": "execute_result"
    }
   ],
   "source": [
    "# Exibindo estatísticas descritivas das colunas numéricas:\n",
    "# Inclui média, desvio padrão, valores mínimo e máximo, e os quartis (25%, 50%, 75%)\n",
    "# Arredondando para duas casas decimais \n",
    "df.describe().round(2)"
   ]
  },
  {
   "cell_type": "markdown",
   "id": "dc86591c-cc79-4b0b-833c-991ce824ac3d",
   "metadata": {},
   "source": [
    "### 🧠 Análise Inicial\n",
    "\n",
    "- As notas de **matemática** variaram de 0 a 100, enquanto em **leitura** e **escrita**, o mínimo registrado foi **17** e **10**, respectivamente.\n",
    "- Isso pode indicar que matemática é a disciplina com maior dificuldade ou menor retenção por parte dos alunos.\n",
    "- O **desvio padrão** ficou em torno de **14 a 15 pontos**, sugerindo que a maioria dos alunos apresenta desempenho relativamente próximo da média (baixa dispersão).\n",
    "- Todas as disciplinas têm **média entre 66 e 69 pontos**, o que mostra um desempenho geral regular.\n",
    "\n",
    "Essas observações servem como base para investigar **o impacto de fatores como gênero, curso preparatório e nível socioeconômico** no desempenho.\n"
   ]
  },
  {
   "cell_type": "code",
   "execution_count": 10,
   "id": "04fee4cc-cbea-42c6-a33e-1c446c4dec2f",
   "metadata": {},
   "outputs": [
    {
     "data": {
      "text/html": [
       "<div>\n",
       "<style scoped>\n",
       "    .dataframe tbody tr th:only-of-type {\n",
       "        vertical-align: middle;\n",
       "    }\n",
       "\n",
       "    .dataframe tbody tr th {\n",
       "        vertical-align: top;\n",
       "    }\n",
       "\n",
       "    .dataframe thead th {\n",
       "        text-align: right;\n",
       "    }\n",
       "</style>\n",
       "<table border=\"1\" class=\"dataframe\">\n",
       "  <thead>\n",
       "    <tr style=\"text-align: right;\">\n",
       "      <th></th>\n",
       "      <th>math score</th>\n",
       "      <th>reading score</th>\n",
       "      <th>writing score</th>\n",
       "    </tr>\n",
       "    <tr>\n",
       "      <th>gender</th>\n",
       "      <th></th>\n",
       "      <th></th>\n",
       "      <th></th>\n",
       "    </tr>\n",
       "  </thead>\n",
       "  <tbody>\n",
       "    <tr>\n",
       "      <th>female</th>\n",
       "      <td>63.63</td>\n",
       "      <td>72.61</td>\n",
       "      <td>72.47</td>\n",
       "    </tr>\n",
       "    <tr>\n",
       "      <th>male</th>\n",
       "      <td>68.73</td>\n",
       "      <td>65.47</td>\n",
       "      <td>63.31</td>\n",
       "    </tr>\n",
       "  </tbody>\n",
       "</table>\n",
       "</div>"
      ],
      "text/plain": [
       "        math score  reading score  writing score\n",
       "gender                                          \n",
       "female       63.63          72.61          72.47\n",
       "male         68.73          65.47          63.31"
      ]
     },
     "execution_count": 10,
     "metadata": {},
     "output_type": "execute_result"
    }
   ],
   "source": [
    "# Agrupando os dados por gênero, calculando a média das notas e arredondando para duas casas decimais. \n",
    "df.groupby('gender')[['math score', 'reading score', 'writing score']].mean().round(2)"
   ]
  },
  {
   "cell_type": "markdown",
   "id": "701d6347-0d13-466a-bffe-d35efdde17df",
   "metadata": {},
   "source": [
    "### 📊 Desempenho por Gênero\n",
    "\n",
    "- As meninas obtiveram **notas médias mais altas** em leitura e escrita.\n",
    "- Os meninos tiveram um desempenho **ligeiramente superior em matemática**.\n"
   ]
  },
  {
   "cell_type": "code",
   "execution_count": 13,
   "id": "4d7dfdec-8909-412c-8bf9-10932f2ab6fc",
   "metadata": {},
   "outputs": [
    {
     "data": {
      "text/html": [
       "<div>\n",
       "<style scoped>\n",
       "    .dataframe tbody tr th:only-of-type {\n",
       "        vertical-align: middle;\n",
       "    }\n",
       "\n",
       "    .dataframe tbody tr th {\n",
       "        vertical-align: top;\n",
       "    }\n",
       "\n",
       "    .dataframe thead th {\n",
       "        text-align: right;\n",
       "    }\n",
       "</style>\n",
       "<table border=\"1\" class=\"dataframe\">\n",
       "  <thead>\n",
       "    <tr style=\"text-align: right;\">\n",
       "      <th></th>\n",
       "      <th>math score</th>\n",
       "      <th>reading score</th>\n",
       "      <th>writing score</th>\n",
       "    </tr>\n",
       "    <tr>\n",
       "      <th>test preparation course</th>\n",
       "      <th></th>\n",
       "      <th></th>\n",
       "      <th></th>\n",
       "    </tr>\n",
       "  </thead>\n",
       "  <tbody>\n",
       "    <tr>\n",
       "      <th>completed</th>\n",
       "      <td>69.70</td>\n",
       "      <td>73.89</td>\n",
       "      <td>74.42</td>\n",
       "    </tr>\n",
       "    <tr>\n",
       "      <th>none</th>\n",
       "      <td>64.08</td>\n",
       "      <td>66.53</td>\n",
       "      <td>64.50</td>\n",
       "    </tr>\n",
       "  </tbody>\n",
       "</table>\n",
       "</div>"
      ],
      "text/plain": [
       "                         math score  reading score  writing score\n",
       "test preparation course                                          \n",
       "completed                     69.70          73.89          74.42\n",
       "none                          64.08          66.53          64.50"
      ]
     },
     "execution_count": 13,
     "metadata": {},
     "output_type": "execute_result"
    }
   ],
   "source": [
    "# Agrupando por participação no curso preparatório e calculando as médias\n",
    "df.groupby('test preparation course')[['math score', 'reading score', 'writing score']].mean().round(2)"
   ]
  },
  {
   "cell_type": "markdown",
   "id": "422af349-4690-4548-8f55-4f2b0902a863",
   "metadata": {},
   "source": [
    "### 📘 Efeito do Curso Preparatório\n",
    "\n",
    "- Alunos que **completaram o curso preparatório** apresentaram **notas mais altas** em todas as disciplinas.\n",
    "- O impacto foi mais significativo na disciplina de **escrita**, com diferença notável na média.\n",
    "- Isso reforça a importância de programas de reforço educacional antes de provas.\n"
   ]
  },
  {
   "cell_type": "code",
   "execution_count": 16,
   "id": "d24df2e2-48d1-458f-a4eb-5be71bc6e6e9",
   "metadata": {},
   "outputs": [
    {
     "data": {
      "image/png": "[encoded data removed]",
      "text/plain": [
       "<Figure size 640x480 with 1 Axes>"
      ]
     },
     "metadata": {},
     "output_type": "display_data"
    }
   ],
   "source": [
    "import matplotlib.pyplot as plt\n",
    "\n",
    "# Histograma da distribuição de notas de matemática\n",
    "plt.hist(df['math score'], bins=20, edgecolor='black')\n",
    "plt.title('Distribuição das Notas de Matemática')\n",
    "plt.xlabel('Nota')\n",
    "plt.ylabel('Quantidade de Alunos')\n",
    "plt.grid(True, linestyle='--', alpha=0.5)\n",
    "plt.show()"
   ]
  },
  {
   "cell_type": "markdown",
   "id": "90cbcf13-c622-4c22-bfd2-e31e868d789c",
   "metadata": {},
   "source": [
    "### 📈 Distribuição das Notas de Matemática\n",
    "\n",
    "- A maioria dos alunos obteve notas entre **60 e 80 pontos**.\n",
    "- Há alguns poucos alunos com **notas muito baixas**, incluindo **nota 0**.\n",
    "- A distribuição se aproxima de uma **curva normal**, com leve assimetria negativa (mais alunos com notas mais altas).\n"
   ]
  },
  {
   "cell_type": "code",
   "execution_count": 18,
   "id": "364ec137-75d8-477a-b198-5072de54899d",
   "metadata": {},
   "outputs": [
    {
     "data": {
      "image/png": "[encoded data removed]",
      "text/plain": [
       "<Figure size 640x480 with 1 Axes>"
      ]
     },
     "metadata": {},
     "output_type": "display_data"
    }
   ],
   "source": [
    "import seaborn as sns\n",
    "\n",
    "# Boxplot das notas de matemática por gênero\n",
    "sns.boxplot(x='gender', y='math score', data=df)\n",
    "plt.title('Distribuição das Notas de Matemática por Gênero')\n",
    "plt.grid(True, linestyle='--', alpha=0.5)\n",
    "plt.show()"
   ]
  },
  {
   "cell_type": "markdown",
   "id": "87529a69-1083-4685-bc23-28e3fadef44c",
   "metadata": {},
   "source": [
    "### 📦 Comparação de Notas por Gênero\n",
    "\n",
    "- Os **meninos têm mediana ligeiramente mais alta** em matemática.\n",
    "- A distribuição entre os dois gêneros é relativamente parecida.\n",
    "- Alguns **outliers aparecem entre os meninos**, com notas extremamente baixas."
   ]
  },
  {
   "cell_type": "markdown",
   "id": "7255daa6-87b0-4621-a785-30d859f9b287",
   "metadata": {},
   "source": [
    "## ✅ Conclusões Finais\n",
    "\n",
    "- O desempenho geral dos alunos foi regular, com **médias entre 66 e 69** nas três disciplinas.\n",
    "- **Matemática** apresentou a maior variabilidade e **notas mínimas mais baixas**, incluindo alunos com **nota 0**.\n",
    "- As **meninas** tiveram desempenho melhor em **leitura e escrita**, enquanto os **meninos** foram um pouco melhores em **matemática**.\n",
    "- Alunos que **completaram o curso preparatório** obtiveram **notas mais altas**, especialmente em escrita, mostrando que o reforço educacional faz diferença.\n",
    "- As distribuições das notas se mostraram **relativamente simétricas**, com poucos outliers.\n",
    "\n",
    "### 📌 Considerações\n",
    "Essa análise exploratória mostrou como fatores simples como acesso a preparo extra podem impactar o desempenho estudantil. Com mais tempo e dados adicionais, seria possível aplicar modelos de regressão ou machine learning para prever desempenho com maior profundidade.\n",
    "\n",
    "---\n",
    "\n",
    "📁 Este é o primeiro projeto do meu portfólio de transição de carreira para a área de análise de dados.  \n",
    "🔗 Projeto disponível no GitHub:  https://github.com/Danilo99-ds/analise-de-dados-educacionais"
   ]
  },
  {
   "cell_type": "code",
   "execution_count": null,
   "id": "2ba010cd-19be-4218-a1b2-1e03e7eea76f",
   "metadata": {},
   "outputs": [],
   "source": []
  }
 ],
 "metadata": {
  "kernelspec": {
   "display_name": "Python [conda env:base] *",
   "language": "python",
   "name": "conda-base-py"
  },
  "language_info": {
   "codemirror_mode": {
    "name": "ipython",
    "version": 3
   },
   "file_extension": ".py",
   "mimetype": "text/x-python",
   "name": "python",
   "nbconvert_exporter": "python",
   "pygments_lexer": "ipython3",
   "version": "3.12.7"
  }
 },
 "nbformat": 4,
 "nbformat_minor": 5
}
